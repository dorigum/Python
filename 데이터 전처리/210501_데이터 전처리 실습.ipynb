{
 "cells": [
  {
   "cell_type": "code",
   "execution_count": 30,
   "metadata": {},
   "outputs": [],
   "source": [
    "# 전국보호수 현황"
   ]
  },
  {
   "cell_type": "code",
   "execution_count": null,
   "metadata": {},
   "outputs": [],
   "source": [
    "import pandas as pd\n",
    "import numpy as np"
   ]
  },
  {
   "cell_type": "code",
   "execution_count": 50,
   "metadata": {},
   "outputs": [
    {
     "data": {
      "text/html": [
       "<div>\n",
       "<style scoped>\n",
       "    .dataframe tbody tr th:only-of-type {\n",
       "        vertical-align: middle;\n",
       "    }\n",
       "\n",
       "    .dataframe tbody tr th {\n",
       "        vertical-align: top;\n",
       "    }\n",
       "\n",
       "    .dataframe thead th {\n",
       "        text-align: right;\n",
       "    }\n",
       "</style>\n",
       "<table border=\"1\" class=\"dataframe\">\n",
       "  <thead>\n",
       "    <tr style=\"text-align: right;\">\n",
       "      <th></th>\n",
       "      <th>보호수그루수</th>\n",
       "      <th>거목</th>\n",
       "      <th>노목</th>\n",
       "      <th>노목+거목</th>\n",
       "      <th>희귀목</th>\n",
       "    </tr>\n",
       "    <tr>\n",
       "      <th>시도명</th>\n",
       "      <th></th>\n",
       "      <th></th>\n",
       "      <th></th>\n",
       "      <th></th>\n",
       "      <th></th>\n",
       "    </tr>\n",
       "  </thead>\n",
       "  <tbody>\n",
       "    <tr>\n",
       "      <th>강원도</th>\n",
       "      <td>481</td>\n",
       "      <td>64</td>\n",
       "      <td>375</td>\n",
       "      <td>22</td>\n",
       "      <td>20</td>\n",
       "    </tr>\n",
       "    <tr>\n",
       "      <th>경기도</th>\n",
       "      <td>1117</td>\n",
       "      <td>199</td>\n",
       "      <td>888</td>\n",
       "      <td>12</td>\n",
       "      <td>18</td>\n",
       "    </tr>\n",
       "    <tr>\n",
       "      <th>경상남도</th>\n",
       "      <td>804</td>\n",
       "      <td>250</td>\n",
       "      <td>480</td>\n",
       "      <td>41</td>\n",
       "      <td>33</td>\n",
       "    </tr>\n",
       "    <tr>\n",
       "      <th>경상북도</th>\n",
       "      <td>1643</td>\n",
       "      <td>368</td>\n",
       "      <td>961</td>\n",
       "      <td>280</td>\n",
       "      <td>34</td>\n",
       "    </tr>\n",
       "    <tr>\n",
       "      <th>광주광역시</th>\n",
       "      <td>75</td>\n",
       "      <td>9</td>\n",
       "      <td>42</td>\n",
       "      <td>24</td>\n",
       "      <td>0</td>\n",
       "    </tr>\n",
       "    <tr>\n",
       "      <th>대구광역시</th>\n",
       "      <td>139</td>\n",
       "      <td>10</td>\n",
       "      <td>128</td>\n",
       "      <td>0</td>\n",
       "      <td>1</td>\n",
       "    </tr>\n",
       "    <tr>\n",
       "      <th>대전광역시</th>\n",
       "      <td>186</td>\n",
       "      <td>52</td>\n",
       "      <td>127</td>\n",
       "      <td>4</td>\n",
       "      <td>3</td>\n",
       "    </tr>\n",
       "    <tr>\n",
       "      <th>부산광역시</th>\n",
       "      <td>88</td>\n",
       "      <td>5</td>\n",
       "      <td>82</td>\n",
       "      <td>0</td>\n",
       "      <td>1</td>\n",
       "    </tr>\n",
       "    <tr>\n",
       "      <th>서울특별시</th>\n",
       "      <td>177</td>\n",
       "      <td>9</td>\n",
       "      <td>122</td>\n",
       "      <td>44</td>\n",
       "      <td>2</td>\n",
       "    </tr>\n",
       "    <tr>\n",
       "      <th>세종특별자치시</th>\n",
       "      <td>73</td>\n",
       "      <td>29</td>\n",
       "      <td>41</td>\n",
       "      <td>0</td>\n",
       "      <td>3</td>\n",
       "    </tr>\n",
       "    <tr>\n",
       "      <th>울산광역시</th>\n",
       "      <td>112</td>\n",
       "      <td>54</td>\n",
       "      <td>54</td>\n",
       "      <td>0</td>\n",
       "      <td>4</td>\n",
       "    </tr>\n",
       "    <tr>\n",
       "      <th>인천광역시</th>\n",
       "      <td>111</td>\n",
       "      <td>29</td>\n",
       "      <td>60</td>\n",
       "      <td>19</td>\n",
       "      <td>3</td>\n",
       "    </tr>\n",
       "    <tr>\n",
       "      <th>전라남도</th>\n",
       "      <td>3196</td>\n",
       "      <td>901</td>\n",
       "      <td>1954</td>\n",
       "      <td>298</td>\n",
       "      <td>43</td>\n",
       "    </tr>\n",
       "    <tr>\n",
       "      <th>전라북도</th>\n",
       "      <td>511</td>\n",
       "      <td>88</td>\n",
       "      <td>306</td>\n",
       "      <td>114</td>\n",
       "      <td>3</td>\n",
       "    </tr>\n",
       "    <tr>\n",
       "      <th>제주특별자치도</th>\n",
       "      <td>158</td>\n",
       "      <td>0</td>\n",
       "      <td>42</td>\n",
       "      <td>116</td>\n",
       "      <td>0</td>\n",
       "    </tr>\n",
       "    <tr>\n",
       "      <th>충청남도</th>\n",
       "      <td>1426</td>\n",
       "      <td>211</td>\n",
       "      <td>1092</td>\n",
       "      <td>88</td>\n",
       "      <td>35</td>\n",
       "    </tr>\n",
       "    <tr>\n",
       "      <th>충청북도</th>\n",
       "      <td>861</td>\n",
       "      <td>79</td>\n",
       "      <td>513</td>\n",
       "      <td>265</td>\n",
       "      <td>4</td>\n",
       "    </tr>\n",
       "  </tbody>\n",
       "</table>\n",
       "</div>"
      ],
      "text/plain": [
       "         보호수그루수   거목    노목  노목+거목  희귀목\n",
       "시도명                                   \n",
       "강원도         481   64   375     22   20\n",
       "경기도        1117  199   888     12   18\n",
       "경상남도        804  250   480     41   33\n",
       "경상북도       1643  368   961    280   34\n",
       "광주광역시        75    9    42     24    0\n",
       "대구광역시       139   10   128      0    1\n",
       "대전광역시       186   52   127      4    3\n",
       "부산광역시        88    5    82      0    1\n",
       "서울특별시       177    9   122     44    2\n",
       "세종특별자치시      73   29    41      0    3\n",
       "울산광역시       112   54    54      0    4\n",
       "인천광역시       111   29    60     19    3\n",
       "전라남도       3196  901  1954    298   43\n",
       "전라북도        511   88   306    114    3\n",
       "제주특별자치도     158    0    42    116    0\n",
       "충청남도       1426  211  1092     88   35\n",
       "충청북도        861   79   513    265    4"
      ]
     },
     "execution_count": 50,
     "metadata": {},
     "output_type": "execute_result"
    }
   ],
   "source": [
    "tree = pd.read_excel('../data/tree_data2.xlsx', index_col='시도명')\n",
    "tree"
   ]
  },
  {
   "cell_type": "code",
   "execution_count": 51,
   "metadata": {},
   "outputs": [
    {
     "data": {
      "text/plain": [
       "Index(['강원도', '경기도', '경상남도', '경상북도', '광주광역시', '대구광역시', '대전광역시', '부산광역시',\n",
       "       '서울특별시', '세종특별자치시', '울산광역시', '인천광역시', '전라남도', '전라북도', '제주특별자치도', '충청남도',\n",
       "       '충청북도'],\n",
       "      dtype='object', name='시도명')"
      ]
     },
     "execution_count": 51,
     "metadata": {},
     "output_type": "execute_result"
    }
   ],
   "source": [
    "tree.index"
   ]
  },
  {
   "cell_type": "code",
   "execution_count": 60,
   "metadata": {},
   "outputs": [],
   "source": [
    "import matplotlib.pyplot as plt\n",
    "%matplotlib inline"
   ]
  },
  {
   "cell_type": "code",
   "execution_count": 61,
   "metadata": {},
   "outputs": [],
   "source": [
    "import platform\n",
    "\n",
    "from matplotlib import font_manager, rc\n",
    "plt.rcParams['axes.unicode_minus'] = False\n",
    "\n",
    "if platform.system() == 'Darwin':  # 맥OS \n",
    "    rc('font', family='AppleGothic')\n",
    "elif platform.system() == 'Windows':  # 윈도우\n",
    "    path = \"c:/Windows/Fonts/malgun.ttf\"\n",
    "    font_name = font_manager.FontProperties(fname=path).get_name()\n",
    "    rc('font', family=font_name)\n",
    "else:\n",
    "    print('Unknown system...  sorry~~~')"
   ]
  },
  {
   "cell_type": "code",
   "execution_count": 75,
   "metadata": {},
   "outputs": [
    {
     "data": {
      "image/png": "[encoded data removed]",
      "text/plain": [
       "<Figure size 576x216 with 1 Axes>"
      ]
     },
     "metadata": {
      "needs_background": "light"
     },
     "output_type": "display_data"
    }
   ],
   "source": [
    "y = [481, 1117, 804, 1643, 75, 139, 186]\n",
    "x = np.arange(len(y)) # 0, 1, 2\n",
    "xlabel = ['강원도', '경기도', '경상남도','경상북도','광주광역시','대구광역시','대전광역시']\n",
    "\n",
    "plt.figure(figsize=(8, 3))\n",
    "plt.title(\"Bar Chart\")\n",
    "\n",
    "plt.bar(x, y)\n",
    "plt.xticks(x, xlabel)\n",
    "plt.yticks(y) # plt.yticks(sorted(y))\n",
    "\n",
    "plt.xlabel('지역별')\n",
    "plt.ylabel('보호수 그루수')\n",
    "\n",
    "plt.show()"
   ]
  },
  {
   "cell_type": "code",
   "execution_count": 77,
   "metadata": {},
   "outputs": [
    {
     "data": {
      "image/png": "[encoded data removed]",
      "text/plain": [
       "<Figure size 576x216 with 1 Axes>"
      ]
     },
     "metadata": {
      "needs_background": "light"
     },
     "output_type": "display_data"
    }
   ],
   "source": [
    "y = [2357, 7267, 1327, 207]\n",
    "x = np.arange(len(y)) # 0, 1, 2\n",
    "xlabel = ['거목', '노목', '노목+거목','희귀목']\n",
    "plt.figure(figsize=(8, 3))\n",
    "plt.title(\"Bar Chart\")\n",
    "\n",
    "plt.bar(x, y)\n",
    "plt.xticks(x, xlabel)\n",
    "plt.yticks(y) # plt.yticks(sorted(y))\n",
    "\n",
    "plt.xlabel('보호수유형')\n",
    "plt.ylabel('그루수')\n",
    "\n",
    "plt.show()"
   ]
  },
  {
   "cell_type": "code",
   "execution_count": 83,
   "metadata": {},
   "outputs": [
    {
     "data": {
      "image/png": "[encoded data removed]",
      "text/plain": [
       "<Figure size 576x288 with 1 Axes>"
      ]
     },
     "metadata": {
      "needs_background": "light"
     },
     "output_type": "display_data"
    }
   ],
   "source": [
    "y = [2683, 2636, 1848]\n",
    "x = np.arange(len(y)) # 0, 1, 2\n",
    "xlabel = ['개인', '공공', '단체']\n",
    "plt.figure(figsize=(8, 4))\n",
    "plt.title(\"Bar Chart\")\n",
    "\n",
    "plt.bar(x, y)\n",
    "plt.xticks(x, xlabel)\n",
    "plt.yticks(y) # plt.yticks(sorted(y))\n",
    "\n",
    "plt.xlabel('소유자구분')\n",
    "plt.ylabel('그루수')\n",
    "\n",
    "plt.show()"
   ]
  },
  {
   "cell_type": "code",
   "execution_count": null,
   "metadata": {},
   "outputs": [],
   "source": [
    "tree_path = '../data/tree_data2.xlsx'\n",
    "tree_str = excel.load(open(tree_path, encoding='utf-8'))"
   ]
  }
 ],
 "metadata": {
  "kernelspec": {
   "display_name": "Python 3",
   "language": "python",
   "name": "python3"
  },
  "language_info": {
   "codemirror_mode": {
    "name": "ipython",
    "version": 3
   },
   "file_extension": ".py",
   "mimetype": "text/x-python",
   "name": "python",
   "nbconvert_exporter": "python",
   "pygments_lexer": "ipython3",
   "version": "3.8.5"
  }
 },
 "nbformat": 4,
 "nbformat_minor": 4
}
